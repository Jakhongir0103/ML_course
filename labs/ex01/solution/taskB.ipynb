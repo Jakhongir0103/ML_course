{
 "cells": [
  {
   "cell_type": "code",
   "execution_count": 1,
   "metadata": {
    "tags": []
   },
   "outputs": [],
   "source": [
    "%matplotlib inline\n",
    "import numpy as np\n",
    "import matplotlib.pyplot as plt\n",
    "\n",
    "%load_ext autoreload\n",
    "%autoreload 2\n",
    "\n",
    "# Load test module for sanity check\n",
    "from test_utils import test"
   ]
  },
  {
   "cell_type": "markdown",
   "metadata": {},
   "source": [
    "Data Generation\n",
    "==="
   ]
  },
  {
   "cell_type": "code",
   "execution_count": 2,
   "metadata": {
    "tags": []
   },
   "outputs": [
    {
     "name": "stdout",
     "output_type": "stream",
     "text": [
      "[[0.77132064 0.02075195]\n",
      " [0.63364823 0.74880388]\n",
      " [0.49850701 0.22479665]\n",
      " [0.19806286 0.76053071]] \n",
      "\n",
      " [[0.16911084 0.08833981]\n",
      " [0.68535982 0.95339335]\n",
      " [0.00394827 0.51219226]\n",
      " [0.81262096 0.61252607]\n",
      " [0.72175532 0.29187607]]\n"
     ]
    }
   ],
   "source": [
    "np.random.seed(10)\n",
    "P, Q = (np.random.rand(i, 2) for i in (4, 5))\n",
    "P_big, Q_big = (np.random.rand(i, 80) for i in (100, 120))\n",
    "\n",
    "print(P, \"\\n\\n\", Q)"
   ]
  },
  {
   "cell_type": "markdown",
   "metadata": {},
   "source": [
    "Solution\n",
    "==="
   ]
  },
  {
   "cell_type": "code",
   "execution_count": 3,
   "metadata": {
    "tags": []
   },
   "outputs": [
    {
     "name": "stdout",
     "output_type": "stream",
     "text": [
      "✅ Your `naive` passed 1 tests.\n"
     ]
    }
   ],
   "source": [
    "def naive(P, Q):\n",
    "    \"\"\"\n",
    "    A naive solution for finding pairvise distances between poins in P and Q\n",
    "\n",
    "    Args:\n",
    "        P: numpy array of shape=(p, 2)\n",
    "        Q: numpy array of shape=(q, 2)\n",
    "    Returns:\n",
    "        D: numpy array of shape=(p, q)\n",
    "\n",
    "    >>> naive(np.array([[0, 1]]), np.array([[2, 3], [4, 5]]))\n",
    "    array([[2.82842712, 5.65685425]])\n",
    "    \"\"\"\n",
    "    ### SOLUTION\n",
    "    result = np.zeros((P.shape[0], Q.shape[0]))\n",
    "    for i in range(P.shape[0]):\n",
    "        for j in range(Q.shape[0]):\n",
    "            tmp = 0\n",
    "            for k in range(P.shape[1]):\n",
    "                tmp += (P[i, k] - Q[j, k]) ** 2\n",
    "            result[i, j] = tmp\n",
    "    return np.sqrt(result)\n",
    "    ### TEMPLATE\n",
    "    # # ***************************************************\n",
    "    # # INSERT YOUR CODE HERE\n",
    "    # # TODO: implement a naive solution\n",
    "    # # ***************************************************\n",
    "    # raise NotImplementedError\n",
    "    ### END SOLUTION\n",
    "\n",
    "\n",
    "test(naive)"
   ]
  },
  {
   "cell_type": "code",
   "execution_count": 4,
   "metadata": {
    "tags": []
   },
   "outputs": [],
   "source": [
    "### SOLUTION\n",
    "def naive_2(P, Q):\n",
    "    \"\"\"\n",
    "    An alternative possible solution\n",
    "    \"\"\"\n",
    "    result = np.zeros((P.shape[0], Q.shape[0]))\n",
    "    for i in range(P.shape[0]):\n",
    "        for j in range(Q.shape[0]):\n",
    "            result[i, j] = np.sum((P[i] - Q[j]) ** 2)\n",
    "    return np.sqrt(result)\n",
    "\n",
    "\n",
    "### TEMPLATE\n",
    "### END SOLUTION"
   ]
  },
  {
   "cell_type": "markdown",
   "metadata": {},
   "source": [
    "### Use matching indices\n",
    "\n",
    "Instead of iterating through indices, one can use them directly to parallelize the operations with Numpy."
   ]
  },
  {
   "cell_type": "code",
   "execution_count": 5,
   "metadata": {
    "tags": []
   },
   "outputs": [
    {
     "name": "stdout",
     "output_type": "stream",
     "text": [
      "[[0 0 0 0 0]\n",
      " [1 1 1 1 1]\n",
      " [2 2 2 2 2]\n",
      " [3 3 3 3 3]]\n",
      "\n",
      "[[0 1 2 3 4]\n",
      " [0 1 2 3 4]\n",
      " [0 1 2 3 4]\n",
      " [0 1 2 3 4]]\n"
     ]
    }
   ],
   "source": [
    "rows, cols = np.indices((P.shape[0], Q.shape[0]))\n",
    "print(rows, end=\"\\n\\n\")\n",
    "print(cols)"
   ]
  },
  {
   "cell_type": "code",
   "execution_count": 6,
   "metadata": {
    "tags": []
   },
   "outputs": [
    {
     "name": "stdout",
     "output_type": "stream",
     "text": [
      "[[0.77132064 0.02075195]\n",
      " [0.77132064 0.02075195]\n",
      " [0.77132064 0.02075195]\n",
      " [0.77132064 0.02075195]\n",
      " [0.77132064 0.02075195]\n",
      " [0.63364823 0.74880388]\n",
      " [0.63364823 0.74880388]\n",
      " [0.63364823 0.74880388]\n",
      " [0.63364823 0.74880388]\n",
      " [0.63364823 0.74880388]\n",
      " [0.49850701 0.22479665]\n",
      " [0.49850701 0.22479665]\n",
      " [0.49850701 0.22479665]\n",
      " [0.49850701 0.22479665]\n",
      " [0.49850701 0.22479665]\n",
      " [0.19806286 0.76053071]\n",
      " [0.19806286 0.76053071]\n",
      " [0.19806286 0.76053071]\n",
      " [0.19806286 0.76053071]\n",
      " [0.19806286 0.76053071]]\n",
      "\n",
      "[[0.16911084 0.08833981]\n",
      " [0.68535982 0.95339335]\n",
      " [0.00394827 0.51219226]\n",
      " [0.81262096 0.61252607]\n",
      " [0.72175532 0.29187607]\n",
      " [0.16911084 0.08833981]\n",
      " [0.68535982 0.95339335]\n",
      " [0.00394827 0.51219226]\n",
      " [0.81262096 0.61252607]\n",
      " [0.72175532 0.29187607]\n",
      " [0.16911084 0.08833981]\n",
      " [0.68535982 0.95339335]\n",
      " [0.00394827 0.51219226]\n",
      " [0.81262096 0.61252607]\n",
      " [0.72175532 0.29187607]\n",
      " [0.16911084 0.08833981]\n",
      " [0.68535982 0.95339335]\n",
      " [0.00394827 0.51219226]\n",
      " [0.81262096 0.61252607]\n",
      " [0.72175532 0.29187607]]\n"
     ]
    }
   ],
   "source": [
    "print(P[rows.ravel()], end=\"\\n\\n\")\n",
    "print(Q[cols.ravel()])"
   ]
  },
  {
   "cell_type": "code",
   "execution_count": 7,
   "metadata": {
    "tags": []
   },
   "outputs": [
    {
     "name": "stdout",
     "output_type": "stream",
     "text": [
      "✅ Your `with_indices` passed 1 tests.\n"
     ]
    }
   ],
   "source": [
    "def with_indices(P, Q):\n",
    "    \"\"\"\n",
    "    An optimized solution using matching indices\n",
    "\n",
    "    Args:\n",
    "        P: numpy array of shape=(p, 2)\n",
    "        Q: numpy array of shape=(q, 2)\n",
    "    Returns:\n",
    "        D: numpy array of shape=(p, q)\n",
    "\n",
    "    >>> with_indices(np.array([[0, 1]]), np.array([[2, 3], [4, 5]]))\n",
    "    array([[2.82842712, 5.65685425]])\n",
    "    \"\"\"\n",
    "    ### SOLUTION\n",
    "    rows, cols = np.indices((P.shape[0], Q.shape[0]))\n",
    "    distances = np.sqrt(np.sum((P[rows.ravel(), :] - Q[cols.ravel(), :]) ** 2, axis=1))\n",
    "    return distances.reshape((P.shape[0], Q.shape[0]))\n",
    "\n",
    "    ### TEMPLATE\n",
    "    # # ***************************************************\n",
    "    # # INSERT YOUR CODE HERE\n",
    "    # # TODO: implement an optimized solution\n",
    "    # # ***************************************************\n",
    "    # raise NotImplementedError\n",
    "    ### END SOLUTION\n",
    "\n",
    "\n",
    "test(with_indices)"
   ]
  },
  {
   "cell_type": "code",
   "execution_count": 8,
   "metadata": {
    "tags": []
   },
   "outputs": [],
   "source": [
    "### SOLUTION\n",
    "def with_indices_2(P, Q):\n",
    "    \"\"\"\n",
    "    An optimized solution using matching indices\n",
    "\n",
    "    Args:\n",
    "        P: numpy array of shape=(p, 2)\n",
    "        Q: numpy array of shape=(q, 2)\n",
    "    Returns:\n",
    "        D: numpy array of shape=(p, q)\n",
    "\n",
    "    >>> with_indices(np.array([[0, 1]]), np.array([[2, 3], [4, 5]]))\n",
    "    array([[2.82842712, 5.65685425]])\n",
    "    \"\"\"\n",
    "    rows, cols = np.indices((P.shape[0], Q.shape[0]))\n",
    "    distances = np.sqrt(np.sum((P[rows, :] - Q[cols, :]) ** 2, axis=2))\n",
    "    return distances\n",
    "\n",
    "\n",
    "### TEMPLATE\n",
    "### END SOLUTION"
   ]
  },
  {
   "cell_type": "markdown",
   "metadata": {},
   "source": [
    "### Use a library\n",
    "\n",
    "`scipy` is the equivalent of matlab toolboxes and have a lot to offer. Actually the pairwise computation is part of the library through the `spatial` module."
   ]
  },
  {
   "cell_type": "code",
   "execution_count": 9,
   "metadata": {
    "tags": []
   },
   "outputs": [],
   "source": [
    "from scipy.spatial.distance import cdist\n",
    "\n",
    "\n",
    "def scipy_version(P, Q):\n",
    "    \"\"\"\n",
    "    A solution using scipy\n",
    "\n",
    "    Args:\n",
    "        P: numpy array of shape=(p, 2)\n",
    "        Q: numpy array of shape=(q, 2)\n",
    "\n",
    "    Returns:\n",
    "        D: numpy array of shape=(p, q)\n",
    "\n",
    "    >>> scipy_version(np.array([[0, 1]]), np.array([[2, 3], [4, 5]]))\n",
    "    array([[2.82842712, 5.65685425]])\n",
    "    \"\"\"\n",
    "    return cdist(P, Q)"
   ]
  },
  {
   "cell_type": "markdown",
   "metadata": {},
   "source": [
    "### Numpy Magic"
   ]
  },
  {
   "cell_type": "code",
   "execution_count": 10,
   "metadata": {
    "tags": []
   },
   "outputs": [],
   "source": [
    "def tensor_broadcasting(P, Q):\n",
    "    \"\"\"\n",
    "    A solution using tensor broadcasting\n",
    "\n",
    "    Args:\n",
    "        P: numpy array of shape=(p, 2)\n",
    "        Q: numpy array of shape=(q, 2)\n",
    "\n",
    "    Returns:\n",
    "        D: numpy array of shape=(p, q)\n",
    "\n",
    "    >>> tensor_broadcasting(np.array([[0, 1]]), np.array([[2, 3], [4, 5]]))\n",
    "    array([[2.82842712, 5.65685425]])\n",
    "    \"\"\"\n",
    "    return np.sqrt(np.sum((P[:, np.newaxis, :] - Q[np.newaxis, :, :]) ** 2, axis=2))"
   ]
  },
  {
   "cell_type": "markdown",
   "metadata": {},
   "source": [
    "# Compare methods"
   ]
  },
  {
   "cell_type": "code",
   "execution_count": 11,
   "metadata": {
    "tags": []
   },
   "outputs": [
    {
     "name": "stdout",
     "output_type": "stream",
     "text": [
      "1.11 s ± 40.3 ms per loop (mean ± std. dev. of 7 runs, 1 loop each)\n",
      "129 ms ± 2.17 ms per loop (mean ± std. dev. of 7 runs, 10 loops each)\n",
      "20.9 ms ± 2.8 ms per loop (mean ± std. dev. of 7 runs, 10 loops each)\n",
      "19.6 ms ± 816 µs per loop (mean ± std. dev. of 7 runs, 10 loops each)\n",
      "998 µs ± 11.9 µs per loop (mean ± std. dev. of 7 runs, 1,000 loops each)\n",
      "9.05 ms ± 399 µs per loop (mean ± std. dev. of 7 runs, 100 loops each)\n"
     ]
    }
   ],
   "source": [
    "methods = [\n",
    "    naive,\n",
    "    naive_2,  # This is another possible solution. Feel free to comment it out if you have only one solution.\n",
    "    with_indices,\n",
    "    with_indices_2,  # This is another possible solution. Feel free to comment it out if you have only one solution.\n",
    "    scipy_version,\n",
    "    tensor_broadcasting,\n",
    "]\n",
    "timers = []\n",
    "for f in methods:\n",
    "    r = %timeit -o f(P_big, Q_big)\n",
    "    timers.append(r)"
   ]
  },
  {
   "cell_type": "code",
   "execution_count": 12,
   "metadata": {
    "tags": []
   },
   "outputs": [
    {
     "data": {
<<<<<<< HEAD
      "image/png": "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\n",
=======
      "image/png": "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",
>>>>>>> dccdda74213786ac6a582d43bd56836b1428aab5
      "text/plain": [
       "<Figure size 1000x600 with 1 Axes>"
      ]
     },
     "metadata": {},
     "output_type": "display_data"
    }
   ],
   "source": [
    "plt.figure(figsize=(10, 6))\n",
    "plt.bar(\n",
    "    np.arange(len(methods)), [r.best * 1000 for r in timers], log=False\n",
    ")  # Set log to True for logarithmic scale\n",
    "plt.xticks(np.arange(len(methods)) + 0.2, [f.__name__ for f in methods], rotation=30)\n",
    "plt.xlabel(\"Method\")\n",
    "plt.ylabel(\"Time (ms)\")\n",
    "plt.show()"
   ]
  },
  {
   "cell_type": "code",
   "execution_count": null,
   "metadata": {},
   "outputs": [],
   "source": []
  }
 ],
 "metadata": {
  "kernelspec": {
   "display_name": "Python 3 (ipykernel)",
   "language": "python",
   "name": "python3"
  },
  "language_info": {
   "codemirror_mode": {
    "name": "ipython",
    "version": 3
   },
   "file_extension": ".py",
   "mimetype": "text/x-python",
   "name": "python",
   "nbconvert_exporter": "python",
   "pygments_lexer": "ipython3",
   "version": "3.9.18"
  }
 },
 "nbformat": 4,
 "nbformat_minor": 4
}
