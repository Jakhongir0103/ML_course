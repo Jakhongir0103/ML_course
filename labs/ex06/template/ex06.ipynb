{
 "cells": [
  {
   "cell_type": "code",
   "execution_count": 1,
   "metadata": {
    "tags": []
   },
   "outputs": [],
   "source": [
    "# Useful starting lines\n",
    "%matplotlib inline\n",
    "\n",
    "import random\n",
    "from datetime import datetime\n",
    "\n",
    "import numpy as np\n",
    "import matplotlib.pyplot as plt\n",
    "from test_utils import test\n",
    "import time\n",
    "\n",
    "\n",
    "%load_ext autoreload\n",
    "%autoreload 2"
   ]
  },
  {
   "cell_type": "markdown",
   "metadata": {},
   "source": [
    "# Support Vector Machines\n",
    "## Classification Using SVM\n",
    "Load dataset. We will use a toy dataset from sklearn."
   ]
  },
  {
   "cell_type": "code",
   "execution_count": 2,
   "metadata": {
    "tags": []
   },
   "outputs": [
    {
     "name": "stdout",
     "output_type": "stream",
     "text": [
      "(N, D) = (569, 31)\n"
     ]
    }
   ],
   "source": [
    "from sklearn import datasets\n",
    "\n",
    "# Load dataset\n",
    "sklearn_dataset = datasets.load_breast_cancer()\n",
    "Xx = sklearn_dataset.data\n",
    "y = sklearn_dataset.target * 2 - 1  # labels must be in {-1, 1} for the hinge loss\n",
    "X = np.ones((Xx.shape[0], Xx.shape[1] + 1))\n",
    "X[:, :-1] = Xx\n",
    "print(\"(N, D) =\", X.shape)"
   ]
  },
  {
   "cell_type": "code",
   "execution_count": 3,
   "metadata": {
    "tags": []
   },
   "outputs": [
    {
     "data": {
      "text/plain": [
       "(569,)"
      ]
     },
     "execution_count": 3,
     "metadata": {},
     "output_type": "execute_result"
    }
   ],
   "source": [
    "np.max(X,axis=1).shape"
   ]
  },
  {
   "cell_type": "markdown",
   "metadata": {},
   "source": [
    "## Prepare cost and prediction functions"
   ]
  },
  {
   "cell_type": "code",
   "execution_count": 4,
   "metadata": {
    "tags": []
   },
   "outputs": [],
   "source": [
    "def calculate_primal_objective(y, X, w, lambda_):\n",
    "    \"\"\"compute the full cost (the primal objective, equation (1) in the exercise pdf),\n",
    "        that is loss plus regularizer.\n",
    "\n",
    "    Args:\n",
    "        X: the full dataset matrix, shape = (num_examples, num_features)\n",
    "        y: the corresponding +1 or -1 labels, shape = (num_examples)\n",
    "        w: shape = (num_features)\n",
    "\n",
    "    Returns:\n",
    "        scalar, non-negative\n",
    "\n",
    "    >>> y_test = np.array([1, -1])\n",
    "    >>> x_test = np.array([[1, 2, 3], [4, 5, 6]])\n",
    "    >>> w_test = np.array([0, 1, 5])\n",
    "    >>> calculate_primal_objective(y_test, x_test, w_test, 1)\n",
    "    31.0\n",
    "    \"\"\"\n",
    "    N = len(y)\n",
    "    find_max = np.vectorize(lambda x: np.max([0,x]))\n",
    "    l = 1 - y * (X @ w)\n",
    "    reg = lambda_ * np.power(np.linalg.norm(w), 2) / 2\n",
    "    cost = np.sum(find_max(l)) / N + reg\n",
    "    return cost"
   ]
  },
  {
   "cell_type": "code",
   "execution_count": 5,
   "metadata": {
    "tags": []
   },
   "outputs": [
    {
     "name": "stdout",
     "output_type": "stream",
     "text": [
      "✅ Your `calculate_primal_objective` passed 4 tests.\n"
     ]
    }
   ],
   "source": [
    "test(calculate_primal_objective)"
   ]
  },
  {
   "cell_type": "code",
   "execution_count": 7,
   "metadata": {
    "tags": []
   },
   "outputs": [],
   "source": [
    "def calculate_accuracy(y, X, w):\n",
    "    \"\"\"compute the accuracy on the given dataset (X, y) using the model w.\n",
    "\n",
    "    Args:\n",
    "        X: the full dataset matrix, shape = (num_examples, num_features)\n",
    "        y: the corresponding +1 or -1 labels, shape = (num_examples)\n",
    "        w: shape = (num_features)\n",
    "\n",
    "    Returns:\n",
    "        scalar, between 0 and 1\n",
    "\n",
    "    >>> y_test = np.array([1, -1])\n",
    "    >>> x_test = np.array([[1, 2, 3], [4, 5, 6]])\n",
    "    >>> w_test = np.array([0, 1, 5])\n",
    "    >>> calculate_accuracy(y_test, x_test, w_test)\n",
    "    0.5\n",
    "    \"\"\"\n",
    "    N = len(y)\n",
    "    accuracy_count = np.sum(y == np.sign(X @ w))\n",
    "    return accuracy_count / N"
   ]
  },
  {
   "cell_type": "code",
   "execution_count": 8,
   "metadata": {
    "tags": []
   },
   "outputs": [
    {
     "name": "stdout",
     "output_type": "stream",
     "text": [
      "✅ Your `calculate_accuracy` passed 4 tests.\n"
     ]
    }
   ],
   "source": [
    "test(calculate_accuracy)"
   ]
  },
  {
   "cell_type": "markdown",
   "metadata": {},
   "source": [
    "## Stochastic Gradient Descent for SVM"
   ]
  },
  {
   "cell_type": "markdown",
   "metadata": {},
   "source": [
    "Compute the (stochastic) subgradient for the n-th summand of the SVM optimization objective"
   ]
  },
  {
   "cell_type": "code",
   "execution_count": 9,
   "metadata": {
    "tags": []
   },
   "outputs": [],
   "source": [
    "def calculate_stochastic_gradient(y, X, w, lambda_, n, num_examples):\n",
    "    \"\"\"compute the stochastic gradient of loss plus regularizer.\n",
    "\n",
    "    Args:\n",
    "        X: the dataset matrix, shape = (num_examples, num_features)\n",
    "        y: the corresponding +1 or -1 labels, shape = (num_examples)\n",
    "        w: shape = (num_features)\n",
    "        lambda_: positive scalar number\n",
    "        n: the index of the (one) datapoint we have sampled\n",
    "        num_examples: N\n",
    "\n",
    "    Returns:\n",
    "        numpy array, shape = (num_features)\n",
    "\n",
    "    >>> y_test = np.array([1, -1])\n",
    "    >>> x_test = np.array([[1, 2, 3], [4, 5, 6]])\n",
    "    >>> w_test = np.array([0, 1, 5])\n",
    "    >>> calculate_stochastic_gradient(y_test, x_test, w_test, 1, 1, 2)\n",
    "    array([ 4,  6, 11])\n",
    "    \"\"\"\n",
    "    # Be careful about the constant N (size) term!\n",
    "    # The complete objective for SVM is a sum, not an average as in earlier SGD examples!\n",
    "\n",
    "    x_n, y_n = X[n], y[n]\n",
    "\n",
    "    find_max = np.vectorize(lambda x: np.max([0, x]))\n",
    "    reg = lambda_ * w\n",
    "    grad = -y_n * x_n if 1 > y_n * x_n @ w else np.zeros(len(w))\n",
    "\n",
    "    return grad + reg"
   ]
  },
  {
   "cell_type": "code",
   "execution_count": 212,
   "metadata": {
    "tags": []
   },
   "outputs": [
    {
     "name": "stdout",
     "output_type": "stream",
     "text": [
      "✅ Your `calculate_stochastic_gradient` passed 4 tests.\n"
     ]
    }
   ],
   "source": [
    "test(calculate_stochastic_gradient)"
   ]
  },
  {
   "cell_type": "markdown",
   "metadata": {},
   "source": [
    "Implement stochastic gradient descent: Pick a data point uniformly at random and update w based on the gradient for the n-th summand of the objective"
   ]
  },
  {
   "cell_type": "code",
   "execution_count": 10,
   "metadata": {
    "tags": []
   },
   "outputs": [
    {
     "name": "stdout",
     "output_type": "stream",
     "text": [
      "Final training accuracy = 90.69 %\n",
      "Training time: 558.4 seconds \n"
     ]
    },
    {
     "data": {
      "image/png": "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\n",
      "text/plain": [
       "<Figure size 640x480 with 1 Axes>"
      ]
     },
     "metadata": {},
     "output_type": "display_data"
    }
   ],
   "source": [
    "def sgd_for_svm_demo(y, X):\n",
    "    xs = np.unique(np.round(np.logspace(0, 5, 201)))[:-1]\n",
    "    max_iter = int(1e5)\n",
    "    gamma = 1e-4\n",
    "    lambda_ = 5e1\n",
    "\n",
    "    num_examples, num_features = X.shape\n",
    "    w = np.zeros(num_features)\n",
    "    costs = []\n",
    "    start = time.time()\n",
    "\n",
    "    for it in range(max_iter):\n",
    "        # n = sample one data point uniformly at random data from x\n",
    "        n = random.randint(0, num_examples - 1)\n",
    "\n",
    "        grad = calculate_stochastic_gradient(y, X, w, lambda_, n, num_examples)\n",
    "        w -= gamma / (it + 1) * grad\n",
    "\n",
    "        cost = calculate_primal_objective(y, X, w, lambda_)\n",
    "\n",
    "        if it in xs:\n",
    "            costs += [cost]\n",
    "\n",
    "    end = time.time()\n",
    "\n",
    "    print(\n",
    "        \"Final training accuracy = {l} %\".format(\n",
    "            l=np.round(100 * calculate_accuracy(y, X, w), 2)\n",
    "        )\n",
    "    )\n",
    "    print(\"Training time: \" + str(np.round(end - start, 1)) + \" seconds \")\n",
    "\n",
    "    plt.figure()\n",
    "    plt.title(\"SGD on primal objective\")\n",
    "    plt.loglog(xs, costs)\n",
    "    plt.xlabel(\"Number of iterations\")\n",
    "    plt.ylabel(\"Primal objective\")\n",
    "    plt.show()\n",
    "\n",
    "\n",
    "sgd_for_svm_demo(y, X)"
   ]
  },
  {
   "cell_type": "markdown",
   "metadata": {},
   "source": [
    "## Coordinate Descent (Ascent) for SVM"
   ]
  },
  {
   "cell_type": "markdown",
   "metadata": {},
   "source": [
    "Compute the closed-form update for the n-th variable alpha, in the dual optimization problem, given alpha and the current corresponding w"
   ]
  },
  {
   "cell_type": "code",
   "execution_count": 17,
   "metadata": {
    "tags": []
   },
   "outputs": [],
   "source": [
    "def calculate_coordinate_update(y, X, lambda_, alpha, w, n):\n",
    "    \"\"\"compute a coordinate update (closed form) for coordinate n.\n",
    "\n",
    "    Args:\n",
    "        y: the corresponding +1 or -1 labels, shape = (num_examples)\n",
    "        X: the dataset matrix, shape = (num_examples, num_features)\n",
    "        lambda_: positive scalar number\n",
    "        alpha: vector of dual coordinates, shape = (num_examples)\n",
    "        w: vector of primal parameters, shape = (num_features)\n",
    "        n: the coordinate to be updated\n",
    "\n",
    "    Returns:\n",
    "        w: updated vector of primal parameters, shape = (num_features)\n",
    "        alpha: updated vector of dual parameters, shape = (num_examples)\n",
    "\n",
    "    >>> y_test = np.array([1, -1])\n",
    "    >>> x_test = np.array([[1., 2., 3.], [4., 5., 6.]])\n",
    "    >>> w_test = np.array([-0.3, -0.3, -0.3])\n",
    "    >>> alpha_test = np.array([0.1, 0.1])\n",
    "    >>> calculate_coordinate_update(y_test, x_test, 1, alpha_test, w_test, 0)\n",
    "    (array([-0.1,  0.1,  0.3]), array([0.5, 0.1]))\n",
    "    \"\"\"\n",
    "    # calculate the update of coordinate at index=n.\n",
    "    N = y.size\n",
    "    x_n, y_n = X[n], y[n]\n",
    "    old_alpha_n = np.copy(alpha[n])\n",
    "\n",
    "    ### SOLUTION\n",
    "    g = 1 - y_n * x_n.dot(w)\n",
    "\n",
    "    if g != 0:\n",
    "        alpha[n] = min(\n",
    "            max(old_alpha_n + (lambda_ * N) * g / (x_n.T.dot(x_n)), 0.0), 1.0\n",
    "        )\n",
    "\n",
    "        # compute the corresponding update on the primal vector w\n",
    "        w += 1.0 / (lambda_ * N) * (alpha[n] - old_alpha_n) * y_n * x_n\n",
    "\n",
    "    return w, alpha"
   ]
  },
  {
   "cell_type": "code",
   "execution_count": 18,
   "metadata": {
    "tags": []
   },
   "outputs": [
    {
     "name": "stdout",
     "output_type": "stream",
     "text": [
      "❌ The are some issues with your implementation of `calculate_coordinate_update`:\n",
      "**********************************************************************\n",
      "File \"__main__\", line 20, in calculate_coordinate_update\n",
      "Failed example:\n",
      "    calculate_coordinate_update(y_test, x_test, 1, alpha_test, w_test, 0)\n",
      "Expected:\n",
      "    (array([-0.1,  0.1,  0.3]), array([0.3, 0.1]))\n",
      "Got:\n",
      "    (array([-0.1,  0.1,  0.3]), array([0.5, 0.1]))\n",
      "**********************************************************************\n"
     ]
    }
   ],
   "source": [
    "test(calculate_coordinate_update)"
   ]
  },
  {
   "cell_type": "code",
   "execution_count": null,
   "metadata": {},
   "outputs": [],
   "source": [
    "def calculate_dual_objective(y, X, w, alpha, lambda_):\n",
    "    \"\"\"calculate the objective for the dual problem.\n",
    "\n",
    "    Args:\n",
    "        y: the corresponding +1 or -1 labels, shape = (num_examples)\n",
    "        X: the dataset matrix, shape = (num_examples, num_features)\n",
    "        w: vector of primal parameters, shape = (num_features)\n",
    "        alpha: vector of dual coordinates, shape = (num_examples)\n",
    "        lambda_: non negative scalar number\n",
    "\n",
    "    Output:\n",
    "        scalar\n",
    "\n",
    "    >>> y_test = np.array([1, -1])\n",
    "    >>> x_test = np.array([[1., 2., 3.], [4., 5., 6.]])\n",
    "    >>> w_test = np.array([-0.3, -0.3, -0.3])\n",
    "    >>> alpha_test = np.array([0.1, 0.1])\n",
    "    >>> calculate_dual_objective(y_test, x_test, w_test, alpha_test, 1)\n",
    "    -0.035\n",
    "    \"\"\"\n",
<<<<<<< HEAD
    "    N = len(y)\n",
    "    return 1 / (lambda_*N) * "
=======
    "    N = y.size\n",
    "\n",
    "    # ***************************************************\n",
    "    # INSERT YOUR CODE HERE\n",
    "    # TODO\n",
    "    # ***************************************************\n",
    "    raise NotImplementedError"
>>>>>>> 4745680a9b09255098fd3d617a8018bdc75eea5f
   ]
  },
  {
   "cell_type": "code",
   "execution_count": null,
   "metadata": {},
   "outputs": [],
   "source": [
    "test(calculate_dual_objective)"
   ]
  },
  {
   "cell_type": "code",
   "execution_count": null,
   "metadata": {},
   "outputs": [],
   "source": [
    "# Notice that the gap is going to 0\n",
    "def coordinate_descent_for_svm_demo(y, X):\n",
    "    max_iter = int(1e5)\n",
    "    xs = np.unique(np.round(np.logspace(0, 5, 201)))[:-1]\n",
    "    lambda_ = 5e1\n",
    "    p_costs, d_costs = [], []\n",
    "\n",
    "    num_examples, num_features = X.shape\n",
    "    w = np.zeros(num_features)\n",
    "    alpha = np.zeros(num_examples)\n",
    "    start = time.time()\n",
    "\n",
    "    for it in range(max_iter):\n",
    "        # n = sample one data point uniformly at random data from x\n",
    "        n = random.randint(0, num_examples - 1)\n",
    "\n",
    "        w, alpha = calculate_coordinate_update(y, X, lambda_, alpha, w, n)\n",
    "\n",
    "        if it in xs:\n",
    "            # primal objective\n",
    "            primal_value = calculate_primal_objective(y, X, w, lambda_)\n",
    "            # dual objective\n",
    "            dual_value = calculate_dual_objective(y, X, w, alpha, lambda_)\n",
    "            # store values\n",
    "            p_costs += [primal_value]\n",
    "            d_costs += [dual_value]\n",
    "\n",
    "    end = time.time()\n",
    "    plt.figure()\n",
    "    plt.title(\"Coordinate ascent on dual objective\")\n",
    "    plt.loglog(xs, p_costs, label=\"Primal cost\")\n",
    "    plt.loglog(xs, d_costs, label=\"Dual cost\")\n",
    "    plt.xlabel(\"Number of iterations\")\n",
    "    plt.legend()\n",
    "    plt.show()\n",
    "\n",
    "    print(\n",
    "        \"Final training accuracy = {l} %\".format(\n",
    "            l=np.round(100 * calculate_accuracy(y, X, w), 2)\n",
    "        )\n",
    "    )\n",
    "    print(\"Training time: \" + str(np.round(end - start, 1)) + \" seconds \")\n",
    "\n",
    "\n",
    "coordinate_descent_for_svm_demo(y, X)"
   ]
  },
  {
   "cell_type": "markdown",
   "metadata": {},
   "source": [
    "#### The gap between the primal cost and the dual cost should go to 0 !"
   ]
  }
 ],
 "metadata": {
  "kernelspec": {
   "display_name": "Python [conda env:ml] *",
   "language": "python",
   "name": "conda-env-ml-py"
  },
  "language_info": {
   "codemirror_mode": {
    "name": "ipython",
    "version": 3
   },
   "file_extension": ".py",
   "mimetype": "text/x-python",
   "name": "python",
   "nbconvert_exporter": "python",
   "pygments_lexer": "ipython3",
   "version": "3.9.18"
  }
 },
 "nbformat": 4,
 "nbformat_minor": 4
}
